{
 "cells": [
  {
   "cell_type": "code",
   "execution_count": 36,
   "metadata": {},
   "outputs": [],
   "source": [
    "import numpy as np\n",
    "import statistics as st\n",
    "import pandas as pd"
   ]
  },
  {
   "cell_type": "code",
   "execution_count": 37,
   "metadata": {},
   "outputs": [
    {
     "name": "stdout",
     "output_type": "stream",
     "text": [
      "   Valores\n",
      "0        4\n",
      "1        6\n",
      "2        3\n",
      "3        4\n",
      "4        5\n",
      "5        8\n",
      "6        4\n",
      "7        2\n"
     ]
    }
   ],
   "source": [
    "#Daniel dos Anjos de Oliveira 01662119\n",
    "\n",
    "valores = [4, 6, 3, 4, 5, 8, 4, 2]\n",
    "df = pd.DataFrame({   'Valores' : valores})\n",
    "print(df)"
   ]
  },
  {
   "cell_type": "code",
   "execution_count": 38,
   "metadata": {},
   "outputs": [
    {
     "name": "stdout",
     "output_type": "stream",
     "text": [
      "Valor máximo: 8\n"
     ]
    }
   ],
   "source": [
    "maior_valor = df['Valores'].max()\n",
    "print(\"Valor máximo:\", maior_valor)"
   ]
  },
  {
   "cell_type": "code",
   "execution_count": 39,
   "metadata": {},
   "outputs": [
    {
     "name": "stdout",
     "output_type": "stream",
     "text": [
      "Valor mínimo: 2\n"
     ]
    }
   ],
   "source": [
    "menor_valor = df['Valores'].min()\n",
    "print(\"Valor mínimo:\", menor_valor)"
   ]
  },
  {
   "cell_type": "code",
   "execution_count": 40,
   "metadata": {},
   "outputs": [
    {
     "name": "stdout",
     "output_type": "stream",
     "text": [
      "A média aritmética: 4.5\n"
     ]
    }
   ],
   "source": [
    "media_aritmetica = np.mean(valores)\n",
    "print(\"A média aritmética:\", media_aritmetica)"
   ]
  },
  {
   "cell_type": "code",
   "execution_count": 41,
   "metadata": {},
   "outputs": [
    {
     "name": "stdout",
     "output_type": "stream",
     "text": [
      "A mediana: 4.0\n"
     ]
    }
   ],
   "source": [
    "numero_mediana = np.median(valores)\n",
    "print(\"A mediana:\", numero_mediana)"
   ]
  },
  {
   "cell_type": "code",
   "execution_count": 42,
   "metadata": {},
   "outputs": [
    {
     "name": "stdout",
     "output_type": "stream",
     "text": [
      "O desvio padrão: 1.8516401995451028\n"
     ]
    }
   ],
   "source": [
    "desvio_padrao = st.stdev(valores)\n",
    "print(\"O desvio padrão:\", desvio_padrao)"
   ]
  }
 ],
 "metadata": {
  "kernelspec": {
   "display_name": "base",
   "language": "python",
   "name": "python3"
  },
  "language_info": {
   "codemirror_mode": {
    "name": "ipython",
    "version": 3
   },
   "file_extension": ".py",
   "mimetype": "text/x-python",
   "name": "python",
   "nbconvert_exporter": "python",
   "pygments_lexer": "ipython3",
   "version": "3.12.4"
  }
 },
 "nbformat": 4,
 "nbformat_minor": 2
}
